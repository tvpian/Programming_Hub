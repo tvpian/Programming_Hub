{
  "nbformat": 4,
  "nbformat_minor": 0,
  "metadata": {
    "colab": {
      "provenance": [],
      "include_colab_link": true
    },
    "kernelspec": {
      "name": "python3",
      "display_name": "Python 3"
    },
    "language_info": {
      "name": "python"
    }
  },
  "cells": [
    {
      "cell_type": "markdown",
      "metadata": {
        "id": "view-in-github",
        "colab_type": "text"
      },
      "source": [
        "<a href=\"https://colab.research.google.com/github/tvpian/Programming_Hub/blob/python/Python%20Learning%20Series/Python_Learning_Series_Chapter_2.ipynb\" target=\"_parent\"><img src=\"https://colab.research.google.com/assets/colab-badge.svg\" alt=\"Open In Colab\"/></a>"
      ]
    },
    {
      "cell_type": "markdown",
      "source": [
        "### Control Flow\n",
        "\n",
        "Control the flow of execution of code\n",
        "\n",
        "eg: - If it's hot, I'll turn on the fan\n",
        "\n",
        "Note: the conditions are regeistered by intendation over\n",
        "\n",
        "```\n",
        "if some_condition:\n",
        "  # execute some code\n",
        "else:\n",
        "  # do something else\n",
        "```\n",
        "\n",
        "```\n",
        "if some_condition:\n",
        "  # execute some code\n",
        "elif:\n",
        "  # do something different\n",
        "else:\n",
        "  # do something else\n",
        "```"
      ],
      "metadata": {
        "id": "1g7XLtvPUrrB"
      }
    },
    {
      "cell_type": "markdown",
      "source": [
        "### IF, Elif and Else Statements"
      ],
      "metadata": {
        "id": "F4Q5EhdVv12Z"
      }
    },
    {
      "cell_type": "code",
      "source": [
        "if True:\n",
        "  print(\"It's true\")\n"
      ],
      "metadata": {
        "colab": {
          "base_uri": "https://localhost:8080/"
        },
        "id": "A4vI8STKUvSR",
        "outputId": "3034c087-b076-4a69-da26-d3ac51b1c5d9"
      },
      "execution_count": null,
      "outputs": [
        {
          "output_type": "stream",
          "name": "stdout",
          "text": [
            "It's true\n"
          ]
        }
      ]
    },
    {
      "cell_type": "code",
      "source": [
        "if 3 > 2:\n",
        "  print(\"It's true\")\n"
      ],
      "metadata": {
        "colab": {
          "base_uri": "https://localhost:8080/"
        },
        "id": "CylvBRhJuI2I",
        "outputId": "2e618852-2d02-4cc5-8909-08b372c6b8a6"
      },
      "execution_count": null,
      "outputs": [
        {
          "output_type": "stream",
          "name": "stdout",
          "text": [
            "It's true\n"
          ]
        }
      ]
    },
    {
      "cell_type": "code",
      "source": [
        "a = 5\n",
        "b = 2\n",
        "if a > b:\n",
        "  print(\"a is greater than b\")\n",
        "else:\n",
        "  print(\"a is not greater than b\")"
      ],
      "metadata": {
        "colab": {
          "base_uri": "https://localhost:8080/"
        },
        "id": "Lzgnp-equNOR",
        "outputId": "41df3db5-02ab-4cf0-9e76-72d27e1e332b"
      },
      "execution_count": null,
      "outputs": [
        {
          "output_type": "stream",
          "name": "stdout",
          "text": [
            "a is greater than b\n"
          ]
        }
      ]
    },
    {
      "cell_type": "code",
      "source": [
        "user_choice = 1\n",
        "\n",
        "if user_choice == 1:\n",
        "  print(\"Connect to service team\")\n",
        "elif user_choice == 2:\n",
        "  print(\"Connect to order details\")\n",
        "elif user_choice == 3:\n",
        "  print(\"Repeat the message\")\n",
        "else:\n",
        "  print(\"Invalid choice. End the call\")"
      ],
      "metadata": {
        "colab": {
          "base_uri": "https://localhost:8080/"
        },
        "id": "K8JsSBbCuQ3l",
        "outputId": "7f31e80b-48df-40c1-b7b9-547eebb84d63"
      },
      "execution_count": null,
      "outputs": [
        {
          "output_type": "stream",
          "name": "stdout",
          "text": [
            "Connect to service team\n"
          ]
        }
      ]
    },
    {
      "cell_type": "code",
      "source": [],
      "metadata": {
        "id": "DpWlfLqAvLop"
      },
      "execution_count": null,
      "outputs": []
    },
    {
      "cell_type": "markdown",
      "source": [
        "## Loops\n",
        "\n",
        "### For iterating through 'iterable' items"
      ],
      "metadata": {
        "id": "Bi_zqPZuwHDA"
      }
    },
    {
      "cell_type": "markdown",
      "source": [
        "### FOR Loop"
      ],
      "metadata": {
        "id": "retVPXvnwTBJ"
      }
    },
    {
      "cell_type": "code",
      "source": [
        "my_iterable = [1, 2, 3, 4, 5]\n",
        "for item in my_iterable:\n",
        "  print(item)"
      ],
      "metadata": {
        "colab": {
          "base_uri": "https://localhost:8080/"
        },
        "id": "HdeIioPfwQVB",
        "outputId": "22dbdf4d-4185-40dd-df26-5a5199716f9f"
      },
      "execution_count": null,
      "outputs": [
        {
          "output_type": "stream",
          "name": "stdout",
          "text": [
            "1\n",
            "2\n",
            "3\n",
            "4\n",
            "5\n"
          ]
        }
      ]
    },
    {
      "cell_type": "code",
      "source": [
        "mylist = [1, 2, 3, 4]\n",
        "for numb in mylist:\n",
        "  print(numb)"
      ],
      "metadata": {
        "colab": {
          "base_uri": "https://localhost:8080/"
        },
        "id": "A_e5XhBqxCnr",
        "outputId": "6b3893b7-bc25-4783-fdbf-2775341a2093"
      },
      "execution_count": null,
      "outputs": [
        {
          "output_type": "stream",
          "name": "stdout",
          "text": [
            "1\n",
            "2\n",
            "3\n",
            "4\n"
          ]
        }
      ]
    },
    {
      "cell_type": "code",
      "source": [
        "mylist = [1, 2, 3, 4]\n",
        "for anything in mylist:\n",
        "  print(numb)"
      ],
      "metadata": {
        "colab": {
          "base_uri": "https://localhost:8080/"
        },
        "id": "UjY4qWiExIep",
        "outputId": "f7af04af-947c-440e-9f55-9793d7ee4486"
      },
      "execution_count": null,
      "outputs": [
        {
          "output_type": "stream",
          "name": "stdout",
          "text": [
            "4\n",
            "4\n",
            "4\n",
            "4\n"
          ]
        }
      ]
    },
    {
      "cell_type": "code",
      "source": [
        "mylist = [1, 2, 3, 4]\n",
        "for num in mylist:\n",
        "  if num % 2 == 0:\n",
        "    # print(f\"{num} is even\")\n",
        "    print(\"{number} is even\".format(number = num))\n",
        "  else:\n",
        "    # print(f\"{num} is odd\")\n",
        "    print(\"{number} is {types}\".format(number = num, types = \"odd\"))"
      ],
      "metadata": {
        "colab": {
          "base_uri": "https://localhost:8080/"
        },
        "id": "MtrNLQj_xP0V",
        "outputId": "85cb56a1-9c1a-4c8a-9501-94d39fd5ddd0"
      },
      "execution_count": null,
      "outputs": [
        {
          "output_type": "stream",
          "name": "stdout",
          "text": [
            "1 is odd\n",
            "2 is even\n",
            "3 is odd\n",
            "4 is even\n"
          ]
        }
      ]
    },
    {
      "cell_type": "code",
      "source": [
        "mylist = [1, 2, 3, 4, 5, 6, 7, 8, 9, 10]\n",
        "\n",
        "list_sum = 0\n",
        "\n",
        "for num in mylist:\n",
        "  list_sum = list_sum + num\n",
        "print(list_sum)"
      ],
      "metadata": {
        "colab": {
          "base_uri": "https://localhost:8080/"
        },
        "id": "xoZLxDx34E0P",
        "outputId": "f8310493-1f64-4aef-c130-a5ceef5f7fb1"
      },
      "execution_count": null,
      "outputs": [
        {
          "output_type": "stream",
          "name": "stdout",
          "text": [
            "55\n"
          ]
        }
      ]
    },
    {
      "cell_type": "code",
      "source": [
        "mystring = \"Hello World\"\n",
        "\n",
        "for char in mystring:\n",
        "  print(char)"
      ],
      "metadata": {
        "colab": {
          "base_uri": "https://localhost:8080/"
        },
        "id": "03hnKlxr4Fua",
        "outputId": "e39c4745-7d9a-44de-e7d2-15a56a3160ce"
      },
      "execution_count": null,
      "outputs": [
        {
          "output_type": "stream",
          "name": "stdout",
          "text": [
            "H\n",
            "e\n",
            "l\n",
            "l\n",
            "o\n",
            " \n",
            "W\n",
            "o\n",
            "r\n",
            "l\n",
            "d\n"
          ]
        }
      ]
    },
    {
      "cell_type": "code",
      "source": [
        "mystring = \"Hello World\"\n",
        "for _ in mystring:\n",
        "  print(\"Checking\")"
      ],
      "metadata": {
        "colab": {
          "base_uri": "https://localhost:8080/"
        },
        "id": "g_XF8R0x4QzZ",
        "outputId": "4b858905-66bb-490d-8051-6355b7a4442f"
      },
      "execution_count": null,
      "outputs": [
        {
          "output_type": "stream",
          "name": "stdout",
          "text": [
            "Checking\n",
            "Checking\n",
            "Checking\n",
            "Checking\n",
            "Checking\n",
            "Checking\n",
            "Checking\n",
            "Checking\n",
            "Checking\n",
            "Checking\n",
            "Checking\n"
          ]
        }
      ]
    },
    {
      "cell_type": "code",
      "source": [
        "test_tuple = (1, 2, 3)\n",
        "\n",
        "for item in test_tuple:\n",
        "  print(item)"
      ],
      "metadata": {
        "colab": {
          "base_uri": "https://localhost:8080/"
        },
        "id": "FzYxgqaZ4r4H",
        "outputId": "ac3b70c1-5ca3-48e7-e70b-2d80c98c6e15"
      },
      "execution_count": null,
      "outputs": [
        {
          "output_type": "stream",
          "name": "stdout",
          "text": [
            "1\n",
            "2\n",
            "3\n"
          ]
        }
      ]
    },
    {
      "cell_type": "code",
      "source": [
        "list_tuple = [(1, 2), (3, 4), (5, 6)]\n",
        "\n",
        "for item in list_tuple:\n",
        "  print(item)"
      ],
      "metadata": {
        "colab": {
          "base_uri": "https://localhost:8080/"
        },
        "id": "PHuzD2_35LaK",
        "outputId": "19218c7e-f60a-4fdd-a058-c0b75fe1e894"
      },
      "execution_count": null,
      "outputs": [
        {
          "output_type": "stream",
          "name": "stdout",
          "text": [
            "(1, 2)\n",
            "(3, 4)\n",
            "(5, 6)\n"
          ]
        }
      ]
    },
    {
      "cell_type": "code",
      "source": [
        "for (a,b) in list_tuple:\n",
        "  print(a)\n",
        "  print(b)"
      ],
      "metadata": {
        "colab": {
          "base_uri": "https://localhost:8080/"
        },
        "id": "TBeAHxZ15P6I",
        "outputId": "eda509e0-a624-4043-8bda-1bff772272b1"
      },
      "execution_count": null,
      "outputs": [
        {
          "output_type": "stream",
          "name": "stdout",
          "text": [
            "1\n",
            "2\n",
            "3\n",
            "4\n",
            "5\n",
            "6\n"
          ]
        }
      ]
    },
    {
      "cell_type": "code",
      "source": [
        "d = {'k1':1, 'k2':2, 'k3':3}\n",
        "\n",
        "for item in d:\n",
        "  print(item)"
      ],
      "metadata": {
        "colab": {
          "base_uri": "https://localhost:8080/"
        },
        "id": "rL1_ioMw5Wd6",
        "outputId": "76746db2-51bc-4968-b987-617ca7b7879d"
      },
      "execution_count": null,
      "outputs": [
        {
          "output_type": "stream",
          "name": "stdout",
          "text": [
            "k1\n",
            "k2\n",
            "k3\n"
          ]
        }
      ]
    },
    {
      "cell_type": "code",
      "source": [
        "for key, value in d.items():\n",
        "  print(key)\n",
        "  print(value)"
      ],
      "metadata": {
        "colab": {
          "base_uri": "https://localhost:8080/"
        },
        "id": "UE0o1f1n5l-W",
        "outputId": "c263865b-48e7-4de9-9d64-fc68357e2685"
      },
      "execution_count": null,
      "outputs": [
        {
          "output_type": "stream",
          "name": "stdout",
          "text": [
            "k1\n",
            "1\n",
            "k2\n",
            "2\n",
            "k3\n",
            "3\n"
          ]
        }
      ]
    },
    {
      "cell_type": "code",
      "source": [
        "d.items(), d.keys(), d.values()"
      ],
      "metadata": {
        "colab": {
          "base_uri": "https://localhost:8080/"
        },
        "id": "A9cCkaAe8QKc",
        "outputId": "e25cc7e4-e3d8-4bed-e56f-1a4fdac43d7d"
      },
      "execution_count": null,
      "outputs": [
        {
          "output_type": "execute_result",
          "data": {
            "text/plain": [
              "(dict_items([('k1', 1), ('k2', 2), ('k3', 3)]),\n",
              " dict_keys(['k1', 'k2', 'k3']),\n",
              " dict_values([1, 2, 3]))"
            ]
          },
          "metadata": {},
          "execution_count": 17
        }
      ]
    },
    {
      "cell_type": "markdown",
      "source": [
        "### While Loop\n",
        "\n",
        "eg:- while the tank is not full, fill water\n",
        "\n",
        "\n",
        "\n",
        "\n",
        "```\n",
        "while some_boolean_condition:\n",
        "  #do_something\n",
        "else:\n",
        "  # do_something_different\n",
        "```\n",
        "\n",
        "\n",
        "\n"
      ],
      "metadata": {
        "id": "EFVaZiKF8lrM"
      }
    },
    {
      "cell_type": "code",
      "source": [
        "x = 0\n",
        "while x < 5:\n",
        "  print(f'The current value of x is {x}')\n",
        "  x = x + 1 # Try commenting this line // Infinite Loop\n",
        "else:\n",
        "  print(\"X is not less than 5\")"
      ],
      "metadata": {
        "colab": {
          "base_uri": "https://localhost:8080/"
        },
        "id": "rTwgTKio8SZh",
        "outputId": "6f5ea276-8c49-4111-df67-604089c26685"
      },
      "execution_count": null,
      "outputs": [
        {
          "output_type": "stream",
          "name": "stdout",
          "text": [
            "The current value of x is 0\n",
            "The current value of x is 1\n",
            "The current value of x is 2\n",
            "The current value of x is 3\n",
            "The current value of x is 4\n",
            "X is not less than 5\n"
          ]
        }
      ]
    },
    {
      "cell_type": "markdown",
      "source": [
        "Important keywords - Break, Continue, Pass"
      ],
      "metadata": {
        "id": "5F-XK4Id1hNt"
      }
    },
    {
      "cell_type": "code",
      "source": [
        "for num in range(10):\n",
        "  if num == 3:\n",
        "    continue\n",
        "  print(num)"
      ],
      "metadata": {
        "colab": {
          "base_uri": "https://localhost:8080/"
        },
        "id": "HFb9PqY19LGw",
        "outputId": "c67cf5ba-6e8d-4974-f8c7-b596065224d6"
      },
      "execution_count": null,
      "outputs": [
        {
          "output_type": "stream",
          "name": "stdout",
          "text": [
            "0\n",
            "1\n",
            "2\n",
            "4\n",
            "5\n",
            "6\n",
            "7\n",
            "8\n",
            "9\n"
          ]
        }
      ]
    },
    {
      "cell_type": "code",
      "source": [
        "for num in range(10):\n",
        "  if num == 3:\n",
        "    break\n",
        "  print(num)"
      ],
      "metadata": {
        "colab": {
          "base_uri": "https://localhost:8080/"
        },
        "id": "6i6vLIOx1qyl",
        "outputId": "0f9bb973-e679-48c8-a9c9-74428769588a"
      },
      "execution_count": null,
      "outputs": [
        {
          "output_type": "stream",
          "name": "stdout",
          "text": [
            "0\n",
            "1\n",
            "2\n"
          ]
        }
      ]
    },
    {
      "cell_type": "code",
      "source": [
        "for num in range(10):\n",
        "  # pass"
      ],
      "metadata": {
        "colab": {
          "base_uri": "https://localhost:8080/",
          "height": 106
        },
        "id": "HPFYFMvz1vn3",
        "outputId": "fbdde44c-e4a9-4827-b51c-f1c7a1138588"
      },
      "execution_count": null,
      "outputs": [
        {
          "output_type": "error",
          "ename": "SyntaxError",
          "evalue": "incomplete input (<ipython-input-25-d5e5a57fafd0>, line 2)",
          "traceback": [
            "\u001b[0;36m  File \u001b[0;32m\"<ipython-input-25-d5e5a57fafd0>\"\u001b[0;36m, line \u001b[0;32m2\u001b[0m\n\u001b[0;31m    # pass\u001b[0m\n\u001b[0m          ^\u001b[0m\n\u001b[0;31mSyntaxError\u001b[0m\u001b[0;31m:\u001b[0m incomplete input\n"
          ]
        }
      ]
    },
    {
      "cell_type": "markdown",
      "source": [
        "### Useful Operators"
      ],
      "metadata": {
        "id": "7OtzmA9N_9bi"
      }
    },
    {
      "cell_type": "code",
      "source": [
        "mylist = [1, 2, 3]"
      ],
      "metadata": {
        "id": "ZOp5pV5t1yJW"
      },
      "execution_count": null,
      "outputs": []
    },
    {
      "cell_type": "code",
      "source": [
        "for num in range(0, 11, 2):\n",
        "  print(num)"
      ],
      "metadata": {
        "colab": {
          "base_uri": "https://localhost:8080/"
        },
        "id": "AR-ZHOFyACJP",
        "outputId": "6fe05a49-63ad-4a27-b140-9ddfc2d30d46"
      },
      "execution_count": null,
      "outputs": [
        {
          "output_type": "stream",
          "name": "stdout",
          "text": [
            "0\n",
            "2\n",
            "4\n",
            "6\n",
            "8\n",
            "10\n"
          ]
        }
      ]
    },
    {
      "cell_type": "code",
      "source": [
        "test = [1, 2 ,3, 4, 5, 6, 7, 8, 9, 10]"
      ],
      "metadata": {
        "id": "g-qIzfWYAIM6"
      },
      "execution_count": null,
      "outputs": []
    },
    {
      "cell_type": "code",
      "source": [
        "test[0::2]"
      ],
      "metadata": {
        "colab": {
          "base_uri": "https://localhost:8080/"
        },
        "id": "a7CEHgv6ARQZ",
        "outputId": "22d13715-eacb-48cb-c826-0d9e39b07810"
      },
      "execution_count": null,
      "outputs": [
        {
          "output_type": "execute_result",
          "data": {
            "text/plain": [
              "[1, 3, 5, 7, 9]"
            ]
          },
          "metadata": {},
          "execution_count": 30
        }
      ]
    },
    {
      "cell_type": "code",
      "source": [
        "index_count = 0\n",
        "for letter in 'abcde':\n",
        "  print('At index {} the letter is {}'.format(index_count, letter))\n",
        "  index_count += 1\n",
        "\n",
        "\n",
        "word = \"abcdef\"\n",
        "for index, letter in enumerate(word):\n",
        "  print(index, letter)"
      ],
      "metadata": {
        "colab": {
          "base_uri": "https://localhost:8080/"
        },
        "id": "nMnZykbMCi2L",
        "outputId": "5f4c031f-708f-4b47-bd3d-00b3d2c73ebb"
      },
      "execution_count": null,
      "outputs": [
        {
          "output_type": "stream",
          "name": "stdout",
          "text": [
            "At index 0 the letter is a\n",
            "At index 1 the letter is b\n",
            "At index 2 the letter is c\n",
            "At index 3 the letter is d\n",
            "At index 4 the letter is e\n",
            "0 a\n",
            "1 b\n",
            "2 c\n",
            "3 d\n",
            "4 e\n",
            "5 f\n"
          ]
        }
      ]
    },
    {
      "cell_type": "code",
      "source": [
        "mylist1 =[1, 2, 3, 4, 5, 6, 7, 8]\n",
        "mylist2 = ['a', 'b', 'c']\n",
        "mylist3 = [100, 200, 300]\n",
        "\n",
        "for item in zip(mylist1, mylist2, mylist3):\n",
        "  print(item)"
      ],
      "metadata": {
        "colab": {
          "base_uri": "https://localhost:8080/"
        },
        "id": "ej6ILt5nCjWe",
        "outputId": "8b60cedc-3f08-4d87-fcd0-10d5cf6a452c"
      },
      "execution_count": null,
      "outputs": [
        {
          "output_type": "stream",
          "name": "stdout",
          "text": [
            "(1, 'a', 100)\n",
            "(2, 'b', 200)\n",
            "(3, 'c', 300)\n"
          ]
        }
      ]
    },
    {
      "cell_type": "code",
      "source": [
        "'x' in [1, 2, 3]"
      ],
      "metadata": {
        "colab": {
          "base_uri": "https://localhost:8080/"
        },
        "id": "-3wfSIDQGB8q",
        "outputId": "e9a50d48-e570-4ac0-b455-06a5cd047e33"
      },
      "execution_count": null,
      "outputs": [
        {
          "output_type": "execute_result",
          "data": {
            "text/plain": [
              "False"
            ]
          },
          "metadata": {},
          "execution_count": 36
        }
      ]
    },
    {
      "cell_type": "code",
      "source": [
        "'x' in ['x', 'y', 'z']"
      ],
      "metadata": {
        "colab": {
          "base_uri": "https://localhost:8080/"
        },
        "id": "0G1abYNHGfSd",
        "outputId": "8363518f-90d8-491e-848a-da9d2c53d564"
      },
      "execution_count": null,
      "outputs": [
        {
          "output_type": "execute_result",
          "data": {
            "text/plain": [
              "True"
            ]
          },
          "metadata": {},
          "execution_count": 37
        }
      ]
    },
    {
      "cell_type": "code",
      "source": [
        "mylist = {1:4, 2:5, 3:6}\n",
        "1 in mylist"
      ],
      "metadata": {
        "colab": {
          "base_uri": "https://localhost:8080/"
        },
        "id": "4ThY4VXPGgcB",
        "outputId": "fb609a18-921f-4fee-bdde-f74a1e715d2b"
      },
      "execution_count": null,
      "outputs": [
        {
          "output_type": "execute_result",
          "data": {
            "text/plain": [
              "True"
            ]
          },
          "metadata": {},
          "execution_count": 43
        }
      ]
    },
    {
      "cell_type": "code",
      "source": [
        "1 in mylist.values()"
      ],
      "metadata": {
        "colab": {
          "base_uri": "https://localhost:8080/"
        },
        "id": "zoZn9ZFWGmHq",
        "outputId": "10bfbf9a-7709-455e-95dc-44d07c85f36f"
      },
      "execution_count": null,
      "outputs": [
        {
          "output_type": "execute_result",
          "data": {
            "text/plain": [
              "False"
            ]
          },
          "metadata": {},
          "execution_count": 45
        }
      ]
    },
    {
      "cell_type": "code",
      "source": [
        "mylist = [1, 2, 3, 4, 5, 6, 7, 8, 9, 10]\n",
        "min(mylist), max(mylist)"
      ],
      "metadata": {
        "colab": {
          "base_uri": "https://localhost:8080/"
        },
        "id": "1Vy4Tpf6Gmx8",
        "outputId": "a38030fa-8dfb-4f51-963b-35ec64056883"
      },
      "execution_count": null,
      "outputs": [
        {
          "output_type": "execute_result",
          "data": {
            "text/plain": [
              "(1, 10)"
            ]
          },
          "metadata": {},
          "execution_count": 46
        }
      ]
    },
    {
      "cell_type": "code",
      "source": [
        "from random import shuffle\n",
        "\n",
        "mylist = [1, 2, 3, 4, 5, 6, 7, 8, 9, 10]\n",
        "shuffle(mylist)\n",
        "mylist"
      ],
      "metadata": {
        "colab": {
          "base_uri": "https://localhost:8080/"
        },
        "id": "lMip_1pLHLSL",
        "outputId": "23e7dad5-4811-49f1-f289-76d5b3c813b4"
      },
      "execution_count": null,
      "outputs": [
        {
          "output_type": "execute_result",
          "data": {
            "text/plain": [
              "[2, 7, 3, 6, 4, 5, 1, 10, 9, 8]"
            ]
          },
          "metadata": {},
          "execution_count": 47
        }
      ]
    },
    {
      "cell_type": "code",
      "source": [
        "from random import randint\n",
        "randint(0, 100)"
      ],
      "metadata": {
        "colab": {
          "base_uri": "https://localhost:8080/"
        },
        "id": "y2D8Z1c7HWXq",
        "outputId": "b922a013-4967-4baa-8e07-14792c6e5062"
      },
      "execution_count": null,
      "outputs": [
        {
          "output_type": "execute_result",
          "data": {
            "text/plain": [
              "82"
            ]
          },
          "metadata": {},
          "execution_count": 48
        }
      ]
    },
    {
      "cell_type": "code",
      "source": [
        "mynum = input( \"Enter a number here: \")\n",
        "mynum"
      ],
      "metadata": {
        "colab": {
          "base_uri": "https://localhost:8080/",
          "height": 53
        },
        "id": "DbkBG-lVIiXG",
        "outputId": "2ffacac7-2d11-4bf0-c060-728c548c0eed"
      },
      "execution_count": null,
      "outputs": [
        {
          "name": "stdout",
          "output_type": "stream",
          "text": [
            "Enter a number here: 3\n"
          ]
        },
        {
          "output_type": "execute_result",
          "data": {
            "text/plain": [
              "'3'"
            ],
            "application/vnd.google.colaboratory.intrinsic+json": {
              "type": "string"
            }
          },
          "metadata": {},
          "execution_count": 50
        }
      ]
    },
    {
      "cell_type": "code",
      "source": [
        "mystring = \"Hello\"\n",
        "mystring[0]\n",
        "appended_string = []\n",
        "[appended_string.append(i) for i in mystring]\n",
        "appended_string"
      ],
      "metadata": {
        "colab": {
          "base_uri": "https://localhost:8080/"
        },
        "id": "t5OfHXBaIo1z",
        "outputId": "de0db956-0718-4e41-d8ce-342e3b5fbbab"
      },
      "execution_count": null,
      "outputs": [
        {
          "output_type": "execute_result",
          "data": {
            "text/plain": [
              "['H', 'e', 'l', 'l', 'o']"
            ]
          },
          "metadata": {},
          "execution_count": 55
        }
      ]
    },
    {
      "cell_type": "code",
      "source": [
        "my_list = [num**2 for num in range(0,10,1) if num % 2 == 0]\n",
        "my_list"
      ],
      "metadata": {
        "colab": {
          "base_uri": "https://localhost:8080/"
        },
        "id": "ICJgX8x6Jix3",
        "outputId": "b13de1e7-f87a-4618-c95e-7f01bda5aaf4"
      },
      "execution_count": null,
      "outputs": [
        {
          "output_type": "execute_result",
          "data": {
            "text/plain": [
              "[0, 4, 16, 36, 64]"
            ]
          },
          "metadata": {},
          "execution_count": 58
        }
      ]
    },
    {
      "cell_type": "code",
      "source": [
        "celsius = [0, 10, 20, 34.6]\n",
        "fahrenheit = [((9/5)*temp + 32) for temp in celsius]\n",
        "fahrenheit"
      ],
      "metadata": {
        "colab": {
          "base_uri": "https://localhost:8080/"
        },
        "id": "wFMU8KKTKpJM",
        "outputId": "a5787037-929a-4278-a36d-70cc3f1bd6c1"
      },
      "execution_count": null,
      "outputs": [
        {
          "output_type": "execute_result",
          "data": {
            "text/plain": [
              "[32.0, 50.0, 68.0, 94.28]"
            ]
          },
          "metadata": {},
          "execution_count": 59
        }
      ]
    },
    {
      "cell_type": "code",
      "source": [
        "odd_even_checker = [x if x%2 == 0 else \"odd\" for x in range(0,10)]\n",
        "odd_even_checker"
      ],
      "metadata": {
        "colab": {
          "base_uri": "https://localhost:8080/"
        },
        "id": "Dg2ai7rIMkB6",
        "outputId": "bf02b5ec-7429-4270-a7bf-98dea01af1e0"
      },
      "execution_count": null,
      "outputs": [
        {
          "output_type": "execute_result",
          "data": {
            "text/plain": [
              "[0, 'odd', 2, 'odd', 4, 'odd', 6, 'odd', 8, 'odd']"
            ]
          },
          "metadata": {},
          "execution_count": 60
        }
      ]
    },
    {
      "cell_type": "code",
      "source": [],
      "metadata": {
        "id": "g7iFAE3ENQrj"
      },
      "execution_count": null,
      "outputs": []
    },
    {
      "cell_type": "code",
      "source": [
        "st = 'Print only the words that start with s in this sentence'\n",
        "\n",
        "words = [s_word for s_word in st.split() if s_word.startswith('s')]\n",
        "words"
      ],
      "metadata": {
        "colab": {
          "base_uri": "https://localhost:8080/"
        },
        "id": "ijXkR0lbTXrw",
        "outputId": "e5f46199-efd1-4fc9-fde8-d6093dd81934"
      },
      "execution_count": null,
      "outputs": [
        {
          "output_type": "execute_result",
          "data": {
            "text/plain": [
              "['start', 's', 'sentence']"
            ]
          },
          "metadata": {},
          "execution_count": 61
        }
      ]
    },
    {
      "cell_type": "code",
      "source": [
        "div_by_50 = [num for num in range(1,50,1) if num%3 == 0]\n",
        "div_by_50"
      ],
      "metadata": {
        "colab": {
          "base_uri": "https://localhost:8080/"
        },
        "id": "OFpTjOcPTpa2",
        "outputId": "faa7cbcd-1fd8-41c6-8b4c-3d8b6719dc83"
      },
      "execution_count": null,
      "outputs": [
        {
          "output_type": "execute_result",
          "data": {
            "text/plain": [
              "[3, 6, 9, 12, 15, 18, 21, 24, 27, 30, 33, 36, 39, 42, 45, 48]"
            ]
          },
          "metadata": {},
          "execution_count": 63
        }
      ]
    },
    {
      "cell_type": "code",
      "source": [
        "fizzbuzz = [\"fizzbuzz\" if num%15 == 0 else \"fizz\" if num%3 == 0 else \"buzz\" if num%5 == 0 else num for num in range(1,50,1)]\n",
        "fizzbuzz"
      ],
      "metadata": {
        "colab": {
          "base_uri": "https://localhost:8080/"
        },
        "id": "U78wj2g1T6W-",
        "outputId": "cb7cc78c-e722-47f6-f61c-3ca04879aa5b"
      },
      "execution_count": null,
      "outputs": [
        {
          "output_type": "execute_result",
          "data": {
            "text/plain": [
              "[1,\n",
              " 2,\n",
              " 'fizz',\n",
              " 4,\n",
              " 'buzz',\n",
              " 'fizz',\n",
              " 7,\n",
              " 8,\n",
              " 'fizz',\n",
              " 'buzz',\n",
              " 11,\n",
              " 'fizz',\n",
              " 13,\n",
              " 14,\n",
              " 'fizzbuzz',\n",
              " 16,\n",
              " 17,\n",
              " 'fizz',\n",
              " 19,\n",
              " 'buzz',\n",
              " 'fizz',\n",
              " 22,\n",
              " 23,\n",
              " 'fizz',\n",
              " 'buzz',\n",
              " 26,\n",
              " 'fizz',\n",
              " 28,\n",
              " 29,\n",
              " 'fizzbuzz',\n",
              " 31,\n",
              " 32,\n",
              " 'fizz',\n",
              " 34,\n",
              " 'buzz',\n",
              " 'fizz',\n",
              " 37,\n",
              " 38,\n",
              " 'fizz',\n",
              " 'buzz',\n",
              " 41,\n",
              " 'fizz',\n",
              " 43,\n",
              " 44,\n",
              " 'fizzbuzz',\n",
              " 46,\n",
              " 47,\n",
              " 'fizz',\n",
              " 49]"
            ]
          },
          "metadata": {},
          "execution_count": 65
        }
      ]
    },
    {
      "cell_type": "code",
      "source": [
        "st = 'Print only the words that start with s in this sentence'\n",
        "first_letter = [word[0] for word in st.split()]\n",
        "first_letter"
      ],
      "metadata": {
        "colab": {
          "base_uri": "https://localhost:8080/"
        },
        "id": "8GJR_ZEdVN7O",
        "outputId": "d7ad5906-0579-48c9-afe0-a1a7c2aa588f"
      },
      "execution_count": null,
      "outputs": [
        {
          "output_type": "execute_result",
          "data": {
            "text/plain": [
              "['P', 'o', 't', 'w', 't', 's', 'w', 's', 'i', 't', 's']"
            ]
          },
          "metadata": {},
          "execution_count": 66
        }
      ]
    },
    {
      "cell_type": "code",
      "source": [],
      "metadata": {
        "id": "fzcHRqnWVp3n"
      },
      "execution_count": null,
      "outputs": []
    }
  ]
}