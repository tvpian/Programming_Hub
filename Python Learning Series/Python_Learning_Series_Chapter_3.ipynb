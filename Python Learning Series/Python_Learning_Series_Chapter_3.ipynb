{
  "nbformat": 4,
  "nbformat_minor": 0,
  "metadata": {
    "colab": {
      "provenance": [],
      "include_colab_link": true
    },
    "kernelspec": {
      "name": "python3",
      "display_name": "Python 3"
    },
    "language_info": {
      "name": "python"
    }
  },
  "cells": [
    {
      "cell_type": "markdown",
      "metadata": {
        "id": "view-in-github",
        "colab_type": "text"
      },
      "source": [
        "<a href=\"https://colab.research.google.com/github/tvpian/Programming_Hub/blob/python/Python%20Learning%20Series/Python_Learning_Series_Chapter_3.ipynb\" target=\"_parent\"><img src=\"https://colab.research.google.com/assets/colab-badge.svg\" alt=\"Open In Colab\"/></a>"
      ]
    },
    {
      "cell_type": "markdown",
      "source": [
        "## Methods and Functions"
      ],
      "metadata": {
        "id": "F2M8hSGLb6Ns"
      }
    },
    {
      "cell_type": "markdown",
      "source": [
        "### Methods\n",
        "\n",
        "Ref: https://docs.python.org/3.12/tutorial/index.html"
      ],
      "metadata": {
        "id": "PNHfETAO9Jno"
      }
    },
    {
      "cell_type": "code",
      "source": [
        "mylist = [1,2,3]"
      ],
      "metadata": {
        "id": "bOwYY-_Bb9Zs"
      },
      "execution_count": 1,
      "outputs": []
    },
    {
      "cell_type": "code",
      "source": [
        "mylist.pop()"
      ],
      "metadata": {
        "colab": {
          "base_uri": "https://localhost:8080/"
        },
        "id": "Eoax8acffxQE",
        "outputId": "eb181fdc-181b-4bef-db30-5d40de90061d"
      },
      "execution_count": 2,
      "outputs": [
        {
          "output_type": "execute_result",
          "data": {
            "text/plain": [
              "3"
            ]
          },
          "metadata": {},
          "execution_count": 2
        }
      ]
    },
    {
      "cell_type": "code",
      "source": [
        "mylist.insert"
      ],
      "metadata": {
        "id": "Mt72HZZFfzHj"
      },
      "execution_count": null,
      "outputs": []
    },
    {
      "cell_type": "markdown",
      "source": [
        "### Functions\n",
        "\n",
        "\n",
        "\n",
        "```\n",
        "def name_of_function(argument):\n",
        "  \"\"\"\n",
        "  Docstring explains function.\n",
        "  \"\"\"\n",
        "  print(\"Hello\")\n",
        "```\n",
        "\n"
      ],
      "metadata": {
        "id": "wrOrHBNWta6V"
      }
    },
    {
      "cell_type": "code",
      "source": [
        "def intro_you():\n",
        "  print(\"Hello\")\n",
        ""
      ],
      "metadata": {
        "id": "hQsycIxstcjE"
      },
      "execution_count": 1,
      "outputs": []
    },
    {
      "cell_type": "code",
      "source": [
        "intro_you()"
      ],
      "metadata": {
        "colab": {
          "base_uri": "https://localhost:8080/"
        },
        "id": "0rPuYc86u6xH",
        "outputId": "6964fc6b-2cf5-414b-d98d-60b738ed23e4"
      },
      "execution_count": 2,
      "outputs": [
        {
          "output_type": "stream",
          "name": "stdout",
          "text": [
            "Hello\n"
          ]
        }
      ]
    },
    {
      "cell_type": "code",
      "source": [
        "def intro_with_name(name):\n",
        "  print(\"Hello \" + name)\n",
        "  print(f\"Hello {name}\")"
      ],
      "metadata": {
        "id": "7d7xWLIGu8LZ"
      },
      "execution_count": 5,
      "outputs": []
    },
    {
      "cell_type": "code",
      "source": [
        "intro_with_name(\"John\")"
      ],
      "metadata": {
        "colab": {
          "base_uri": "https://localhost:8080/"
        },
        "id": "8kkfDGYlvU7x",
        "outputId": "ff251bab-2dfa-4c4f-8b3d-bb92ffe287d0"
      },
      "execution_count": 6,
      "outputs": [
        {
          "output_type": "stream",
          "name": "stdout",
          "text": [
            "Hello John\n",
            "Hello John\n"
          ]
        }
      ]
    },
    {
      "cell_type": "code",
      "source": [
        "def intro_with_name(name = \"World\"):\n",
        "  print(\"Hello \" + name)\n",
        "  print(f\"Hello {name}\")"
      ],
      "metadata": {
        "id": "XvgKbS2_vVlz"
      },
      "execution_count": 7,
      "outputs": []
    },
    {
      "cell_type": "code",
      "source": [
        "intro_with_name()"
      ],
      "metadata": {
        "colab": {
          "base_uri": "https://localhost:8080/"
        },
        "id": "aTL_w_yvvhIn",
        "outputId": "b9fcf69f-d65e-488f-aced-ce62c50dea99"
      },
      "execution_count": 8,
      "outputs": [
        {
          "output_type": "stream",
          "name": "stdout",
          "text": [
            "Hello World\n",
            "Hello World\n"
          ]
        }
      ]
    },
    {
      "cell_type": "code",
      "source": [
        "def show_sum(num1, num2):\n",
        "  print(num1 + num2)"
      ],
      "metadata": {
        "id": "SgCzSuj5vjwf"
      },
      "execution_count": 9,
      "outputs": []
    },
    {
      "cell_type": "code",
      "source": [
        "show_sum(4,5)"
      ],
      "metadata": {
        "colab": {
          "base_uri": "https://localhost:8080/"
        },
        "id": "I1-xVRXwv3BV",
        "outputId": "032c15c1-6b4a-4420-c6af-194aa3afda75"
      },
      "execution_count": 10,
      "outputs": [
        {
          "output_type": "stream",
          "name": "stdout",
          "text": [
            "9\n"
          ]
        }
      ]
    },
    {
      "cell_type": "code",
      "source": [
        "def return_sum(num1, num2):\n",
        "  return num1 + num2"
      ],
      "metadata": {
        "id": "k8Agf4SBv43u"
      },
      "execution_count": 11,
      "outputs": []
    },
    {
      "cell_type": "code",
      "source": [
        "sum = return_sum(4,5)"
      ],
      "metadata": {
        "id": "od9L9Tc0v8WH"
      },
      "execution_count": 12,
      "outputs": []
    },
    {
      "cell_type": "code",
      "source": [
        "show_sum('10', '20')"
      ],
      "metadata": {
        "colab": {
          "base_uri": "https://localhost:8080/"
        },
        "id": "BkohTr3qv9Vc",
        "outputId": "898e3d64-696d-46d5-eb98-d35e88bccfdf"
      },
      "execution_count": 13,
      "outputs": [
        {
          "output_type": "stream",
          "name": "stdout",
          "text": [
            "1020\n"
          ]
        }
      ]
    },
    {
      "cell_type": "code",
      "source": [
        "def check_even_odd(num):\n",
        "  if num % 2 == 0:\n",
        "    print(\"Even\")\n",
        "  else:\n",
        "    print(\"Odd\")"
      ],
      "metadata": {
        "id": "qXReYHmEwQib"
      },
      "execution_count": 14,
      "outputs": []
    },
    {
      "cell_type": "code",
      "source": [
        "check_even_odd(2)"
      ],
      "metadata": {
        "colab": {
          "base_uri": "https://localhost:8080/"
        },
        "id": "eYVWp_97xHku",
        "outputId": "7401bba9-016f-49c5-ccae-22a45f4d2ea9"
      },
      "execution_count": 15,
      "outputs": [
        {
          "output_type": "stream",
          "name": "stdout",
          "text": [
            "Even\n"
          ]
        }
      ]
    },
    {
      "cell_type": "code",
      "source": [
        "def check_even_list(num_list):\n",
        "  for num in num_list:\n",
        "    if num % 2 == 0:\n",
        "      return True\n",
        "    else:\n",
        "      pass\n",
        "  return False\n",
        "\n",
        "my_list = [1,3,5,2]\n",
        "\n",
        "\n"
      ],
      "metadata": {
        "id": "dH2cyaW7xJAm"
      },
      "execution_count": 3,
      "outputs": []
    },
    {
      "cell_type": "code",
      "source": [
        "check_even_list(my_list)"
      ],
      "metadata": {
        "colab": {
          "base_uri": "https://localhost:8080/"
        },
        "id": "TelB_g_WU4xx",
        "outputId": "00c12e32-13f4-494e-c246-6a86cc9dcd06"
      },
      "execution_count": 4,
      "outputs": [
        {
          "output_type": "execute_result",
          "data": {
            "text/plain": [
              "True"
            ]
          },
          "metadata": {},
          "execution_count": 4
        }
      ]
    },
    {
      "cell_type": "code",
      "source": [
        "stock_prices = [('APPL', 200), ('GOOG', 400), ('MSFT', 100)]\n"
      ],
      "metadata": {
        "colab": {
          "base_uri": "https://localhost:8080/"
        },
        "id": "Tvfu_vilU6ia",
        "outputId": "a510fd49-e69a-4a74-9d6a-791dedb28639"
      },
      "execution_count": 5,
      "outputs": [
        {
          "output_type": "stream",
          "name": "stdout",
          "text": [
            "APPL\n",
            "200\n",
            "GOOG\n",
            "400\n",
            "MSFT\n",
            "100\n"
          ]
        }
      ]
    },
    {
      "cell_type": "code",
      "source": [
        "work_hours = [('Abby',100),('Billy',400),('Cassie',800)]\n",
        "\n",
        "current_max = 0\n",
        "selected_employee = \"\"\n",
        "\n",
        "for emp, hours in work_hours:\n",
        "  if hours > current_max:\n",
        "    current_max = hours\n",
        "    selected_employee = emp\n",
        "\n",
        "print(selected_employee)"
      ],
      "metadata": {
        "colab": {
          "base_uri": "https://localhost:8080/"
        },
        "id": "HWKDFQRBaEst",
        "outputId": "cc0c895e-e91e-4b84-80d1-a0d9f1af0323"
      },
      "execution_count": 7,
      "outputs": [
        {
          "output_type": "stream",
          "name": "stdout",
          "text": [
            "Cassie\n"
          ]
        }
      ]
    },
    {
      "cell_type": "code",
      "source": [],
      "metadata": {
        "id": "F_EwPi9vaJ5H"
      },
      "execution_count": null,
      "outputs": []
    }
  ]
}